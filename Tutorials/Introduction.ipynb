{
 "cells": [
  {
   "cell_type": "code",
   "execution_count": 1,
   "outputs": [],
   "source": [
    "# Step-by-step guide to implement the model of self-organized criticality by Levina et al. (2007) with the network simulator brian2"
   ],
   "metadata": {
    "collapsed": false,
    "pycharm": {
     "name": "#%%\n"
    }
   }
  },
  {
   "cell_type": "markdown",
   "id": "e6ad8d2c",
   "metadata": {
    "pycharm": {
     "name": "#%% md\n"
    }
   },
   "source": [
    "We implement a model of dynamical synapses that is governed by Equation (1):\n",
    "\\begin{align} \\dot h_i = \\delta_{i,\\xi_{\\tau(t)}} I^{ext} + \\frac{1}{N} \\sum_{j=1}^N u J_{ij} \\delta(t-t_{sp}^j\\tau_d) \\\\\n",
    "\\dot J_{ij} = \\frac{1}{\\tau_j} (\\frac{\\alpha}{u}-J_{ij})-uJ_{ij}\\delta(t-t_{sp}^j)\n",
    "\\end{align}"
   ]
  },
  {
   "cell_type": "code",
   "execution_count": null,
   "outputs": [],
   "source": [
    "from brian2 import *\n",
    "import numpy as np\n",
    "import pandas as pd\n",
    "import os\n",
    "\n",
    "#set the random seed for reproducability\n",
    "np.random.seed(1)"
   ],
   "metadata": {
    "collapsed": false,
    "pycharm": {
     "name": "#%%\n"
    }
   }
  },
  {
   "cell_type": "markdown",
   "source": [
    "First, we define initialise all variables of the model. Here we use a network of only 3 Neurons as a toy model."
   ],
   "metadata": {
    "collapsed": false,
    "pycharm": {
     "name": "#%% md\n"
    }
   }
  },
  {
   "cell_type": "code",
   "execution_count": null,
   "outputs": [],
   "source": [
    "N=3\n",
    "alpha = 1.4\n",
    "u = 0.2\n",
    "nu = 10\n",
    "I = 0.025\n",
    "theta = 1"
   ],
   "metadata": {
    "collapsed": false,
    "pycharm": {
     "name": "#%%\n"
    }
   }
  },
  {
   "cell_type": "markdown",
   "source": [
    "We need to specify temporal variables in physical units, but for other variables of the model, such as the membrane potential h, we omitted physical units. First, we specify the timescales by obeying $\\tau_d \\ll \\tau$\n"
   ],
   "metadata": {
    "collapsed": false,
    "pycharm": {
     "name": "#%% md\n"
    }
   }
  },
  {
   "cell_type": "code",
   "execution_count": null,
   "outputs": [],
   "source": [
    "tau = 10*ms\n",
    "tau_d = 1*ms"
   ],
   "metadata": {
    "collapsed": false,
    "pycharm": {
     "name": "#%%\n"
    }
   }
  },
  {
   "cell_type": "markdown",
   "source": [
    "Next, we specify the duration of the simulation in milliseconds and set the temporal resolution of the Numerical solver used by brian2 to the same amount of the timescale $\\tau$. This makes the system discrete, e.g. with $10.000 ms$ and a timescale of $\\tau=10ms$, the system is simulated for 1000 steps."
   ],
   "metadata": {
    "collapsed": false,
    "pycharm": {
     "name": "#%% md\n"
    }
   }
  },
  {
   "cell_type": "code",
   "execution_count": null,
   "outputs": [],
   "source": [
    "duration = 1000*ms \n",
    "#sets the timestep to tau which makes the model discrete\n",
    "dt = tau"
   ],
   "metadata": {
    "collapsed": false,
    "pycharm": {
     "name": "#%%\n"
    }
   }
  },
  {
   "cell_type": "markdown",
   "source": [
    "Typically the dynamics of the model are passed to brian2 by a literal. The dynamics of the membrane potential are however solely event-based, e.g. spike-triggered or given by external drive. Thus, the specification of the membrane dynamics becomes trivial and we only need to introduce the variable h and specify that it doesn't have a physical unit."
   ],
   "metadata": {
    "collapsed": false,
    "pycharm": {
     "name": "#%% md\n"
    }
   }
  },
  {
   "cell_type": "code",
   "execution_count": null,
   "outputs": [],
   "source": [
    "eqs = \"h:1\""
   ],
   "metadata": {
    "collapsed": false,
    "pycharm": {
     "name": "#%%\n"
    }
   }
  },
  {
   "cell_type": "markdown",
   "source": [
    "The model of the membrane potential gets implemented by the Class NeuronGroup. We can specify the threshold $\\theta = 1$ and a reset action that decreases $h_i$ by the amount $\\theta$, when the threshold is reached."
   ],
   "metadata": {
    "collapsed": false,
    "pycharm": {
     "name": "#%% md\n"
    }
   }
  },
  {
   "cell_type": "code",
   "execution_count": null,
   "outputs": [],
   "source": [
    "G = NeuronGroup(N, eqs, threshold = 'h>=theta', reset = 'h -= theta', method = 'euler', dt = dt)\n",
    "\n",
    "#initialise mebrane potentials with some arbitrary values\n",
    "#G.h = np.random.sample(size = N) \n",
    "G.h = [0,0.3,0.9]"
   ],
   "metadata": {
    "collapsed": false,
    "pycharm": {
     "name": "#%%\n"
    }
   }
  },
  {
   "cell_type": "markdown",
   "source": [
    "Next, we implement the external input that is governed by the process $\\xi_{\\tau}(t)$, which selects every $\\tau$ timesteps uniformly one Neuron in the network and increases it's membrane potential by the amount $I^{ext}$. We can implement this using the class NetworkOperation."
   ],
   "metadata": {
    "collapsed": false,
    "pycharm": {
     "name": "#%% md\n"
    }
   }
  },
  {
   "cell_type": "code",
   "execution_count": null,
   "outputs": [],
   "source": [
    "#gets called by the brian2 NetworkOperation class, implements the external drive\n",
    "def external_input():\n",
    "    idx = np.random.randint(N)\n",
    "    G.h[idx]+=I\n",
    "\n",
    "#this calls the external input every tau steps\n",
    "net_op = NetworkOperation(external_input, dt= tau)"
   ],
   "metadata": {
    "collapsed": false,
    "pycharm": {
     "name": "#%%\n"
    }
   }
  },
  {
   "cell_type": "markdown",
   "source": [
    "Now we will implement the dynamics of the synaptic stength. First we specify the timescale $\\tau_j = \\tau \\nu N$, obeying $\\nu \\ll N$."
   ],
   "metadata": {
    "collapsed": false,
    "pycharm": {
     "name": "#%% md\n"
    }
   }
  },
  {
   "cell_type": "code",
   "execution_count": null,
   "outputs": [],
   "source": [
    "#calculate the time-scale of the dynamics of the synaptic strength\n",
    "tau_j = tau*nu*N\n",
    "J_max = alpha/u"
   ],
   "metadata": {
    "collapsed": false,
    "pycharm": {
     "name": "#%%\n"
    }
   }
  },
  {
   "cell_type": "markdown",
   "source": [
    "The dynamics of the synpatic strength as given in Equation (1) are separated by a minus sign. The first part only depends on time, driving $J_{ij}$ back to it's maximum $\\frac{\\alpha}{u}$. And the spike-triggered part, reducing $J_{ij}$ by the fraction $u$ after a presynaptic spike. We specify the first part in the variable 'eqs', that is $\\dot J_{ij} = \\frac{1}{\\tau_j} (\\frac{\\alpha}{u}-J_{ij})$ and pass it as the model specification to the Synapses class of brian2.$\\\\$\n",
    "The spike-triggered part can be implemented as part of the 'on_pre' statement of the Synapses class, which gets executed upon a presynaptic spike. We have to specify two pathways. The first, which we call 'pre_transmission', increases the postsynaptic membrane potential by the amount $\\frac{u}{N}J_{ij}$. The second pathway called 'pre_selforg' decreases $J_{ij}$ by the fraction u. $\\\\\\\\$\n",
    "The decrement of the synaptic strength at spike time needs to be adjusted with a correction term, as the governing ODE gets updated first within brian2. Thus, we cannot simply write J-=u*J. As in this case J has already been updated internally. \n",
    "The correction term can be easily derived:$\\\\$\n",
    "We denote $J^+$ as the synaptic strength after the update of the time-dependent part, that is:\n",
    "\\begin{align}\n",
    "    J^+ = J_{ij}(t_{sp}^j)+1/\\tau_j(\\frac{\\alpha}{u} - J_{ij}(t_{sp}^j))\n",
    "\\end{align}\n",
    "To obtain the synaptic strength at spike time in the presynaptic neuron, we simply solve the above equation for $J_{ij}(t_{sp}^j)$ and obtain\n",
    "\\begin{align}\n",
    "J_{ij}(t_{sp}^j) = \\frac{J^+ - \\frac{\\alpha}{\\tau_j u}}{1-\\frac{1}{\\tau_j}}.\n",
    "\\end{align}We then apply the decrement by fraction $u$ to the above term.\n"
   ],
   "metadata": {
    "collapsed": false,
    "pycharm": {
     "name": "#%% md\n"
    }
   }
  },
  {
   "cell_type": "code",
   "execution_count": null,
   "outputs": [],
   "source": [
    "N_neurons = N #we have to rename N because the class Synapses uses this variable internally, too\n",
    "\n",
    "#time-dependent part\n",
    "eqs =  \"dJ/dt = 1/tau_j*(alpha/u-J) : 1\"\n",
    "\n",
    "S = Synapses(G,G, eqs, on_pre = {'pre_transmission': 'h_post += u/N_neurons*J',\n",
    "                                 'pre_selforg': 'J = clip(J-u*((J-alpha/(tau_j/ms*u))/(1-1/(tau_j/ms))), 0, J_max)'}, dt = dt, method = 'euler')\n",
    "\n",
    "#connect the Neurons to construct a fully connected network without recursive links                                                                          \n",
    "S.connect(condition = 'i!=j')\n",
    "\n",
    "#initialise synaptic strength uniformly on [0,J_max]\n",
    "S.J = np.random.uniform(0,J_max, size = S.J.shape[0])\n",
    "\n",
    "#specify the synaptic timescale that affects the membrane potential dynamics\n",
    "S.pre_transmission.delay = tau_d\n",
    "\n",
    "#specify the monitors which are later used for plotting\n",
    "spikes = SpikeMonitor(G)\n",
    "neuron_state = StateMonitor(G, 'h', dt = dt, record = True)\n",
    "synapse_state = StateMonitor(S, 'J', dt=dt, record = True)\n"
   ],
   "metadata": {
    "collapsed": false,
    "pycharm": {
     "name": "#%%\n"
    }
   }
  },
  {
   "cell_type": "markdown",
   "source": [
    "Finally we can run the model"
   ],
   "metadata": {
    "collapsed": false,
    "pycharm": {
     "name": "#%% md\n"
    }
   }
  },
  {
   "cell_type": "code",
   "execution_count": null,
   "outputs": [],
   "source": [
    "print('Running simulation...')\n",
    "run(duration)\n",
    "print('Done')\n"
   ],
   "metadata": {
    "collapsed": false,
    "pycharm": {
     "name": "#%%\n"
    }
   }
  },
  {
   "cell_type": "code",
   "execution_count": null,
   "outputs": [],
   "source": [
    "#plot a raster plot, the evolution of the synaptic strength of an exemplary synapse and the trace of the corresponding presynaptic neuron\n",
    "plt.plot((spikes.t/ms), spikes.i, '.k')\n",
    "plt.xlim(0, duration/ms)\n",
    "plt.xlabel('Time(ms)')\n",
    "plt.ylabel('Neuron')\n",
    "plt.show()\n",
    "\n",
    "plt.plot(synapse_state.t/ms, synapse_state.J[4])\n",
    "plt.xlim(0, duration/ms)\n",
    "plt.xlabel('Time(ms)')\n",
    "plt.ylabel('J')\n",
    "plt.show()\n",
    "\n",
    "plt.plot(neuron_state.t/ms, neuron_state.h[2], '-b')\n",
    "plt.xlabel('Time(ms)')\n",
    "plt.xlim(0, duration/ms)\n",
    "plt.ylabel('h')\n",
    "plt.show()"
   ],
   "metadata": {
    "collapsed": false,
    "pycharm": {
     "name": "#%%\n"
    }
   }
  },
  {
   "cell_type": "code",
   "execution_count": null,
   "id": "dfaffdf0",
   "metadata": {
    "pycharm": {
     "name": "#%%\n"
    }
   },
   "outputs": [],
   "source": []
  }
 ],
 "metadata": {
  "kernelspec": {
   "display_name": "Python 3",
   "language": "python",
   "name": "python3"
  },
  "language_info": {
   "codemirror_mode": {
    "name": "ipython",
    "version": 3
   },
   "file_extension": ".py",
   "mimetype": "text/x-python",
   "name": "python",
   "nbconvert_exporter": "python",
   "pygments_lexer": "ipython3",
   "version": "3.8.10"
  }
 },
 "nbformat": 4,
 "nbformat_minor": 5
}