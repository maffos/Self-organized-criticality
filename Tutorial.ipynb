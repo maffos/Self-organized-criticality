{
 "cells": [
  {
   "cell_type": "code",
   "execution_count": null,
   "outputs": [],
   "source": [
    "# Step-by-step guide to implement the model of self-organized criticality by Levina et al. (2007) with the network simulator brian2"
   ],
   "metadata": {
    "collapsed": false,
    "pycharm": {
     "name": "#%%\n"
    }
   }
  },
  {
   "cell_type": "markdown",
   "source": [
    "We implement a model of dynamical synapses that is governed by Equation (1):\n",
    "\\begin{align} \\dot h_i = \\delta_{i,\\xi_{\\tau(t)}} I^{ext} + \\frac{1}{N} \\sum_{j=1}^N u J_{ij} \\delta(t-t_{sp}^j\\tau_d) \\\\\n",
    "\\dot J_{ij} = \\frac{1}{\\tau_j} (\\frac{\\alpha}{u}-J_{ij})-uJ_{ij}\\delta(t-t_{sp}^j)\n",
    "\\end{align}"
   ],
   "metadata": {
    "collapsed": false,
    "pycharm": {
     "name": "#%% md\n"
    }
   }
  },
  {
   "cell_type": "code",
   "execution_count": null,
   "outputs": [],
   "source": [
    "from brian2 import *\n",
    "import numpy as np\n",
    "import pandas as pd\n",
    "import os"
   ],
   "metadata": {
    "collapsed": false,
    "pycharm": {
     "name": "#%%\n"
    }
   }
  },
  {
   "cell_type": "markdown",
   "source": [
    "First, we define all necessary variables. We use the same quantities as in Figure 1 of Levina et. al (2007)."
   ],
   "metadata": {
    "collapsed": false,
    "pycharm": {
     "name": "#%% md\n"
    }
   }
  },
  {
   "cell_type": "code",
   "execution_count": null,
   "outputs": [],
   "source": [
    "N=300\n",
    "alpha = 1.4\n",
    "u = 0.2\n",
    "nu = 10\n",
    "I = 0.025\n",
    "theta = 1\n",
    "topology = 'fc'\n",
    "p = None"
   ],
   "metadata": {
    "collapsed": false,
    "pycharm": {
     "name": "#%%\n"
    }
   }
  },
  {
   "cell_type": "markdown",
   "source": [
    "We need to specify temporal variables in physical units, but for other variables of the model, such as the membrane potential h, we omitted physical units. First, we specify the timescales by obeying $\\tau_d \\ll \\tau$\n"
   ],
   "metadata": {
    "collapsed": false,
    "pycharm": {
     "name": "#%% md\n"
    }
   }
  },
  {
   "cell_type": "code",
   "execution_count": null,
   "outputs": [],
   "source": [
    "tau = 10*ms\n",
    "tau_d = 1*ms"
   ],
   "metadata": {
    "collapsed": false,
    "pycharm": {
     "name": "#%%\n"
    }
   }
  },
  {
   "cell_type": "markdown",
   "source": [
    "Next, we specify the duration of the simulation in milliseconds and set the temporal resolution of the Numerical solver used by brian2 to the same amount of the timescale $\\tau$. This makes the system discrete, e.g. with $10.000 ms$ and a timescale of $\\tau=10ms$, the system is simulated for 1000 steps."
   ],
   "metadata": {
    "collapsed": false,
    "pycharm": {
     "name": "#%% md\n"
    }
   }
  },
  {
   "cell_type": "code",
   "execution_count": null,
   "outputs": [],
   "source": [
    "duration = 10000*ms \n",
    "#sets the timestep to tau which makes the model discrete\n",
    "dt = tau"
   ],
   "metadata": {
    "collapsed": false,
    "pycharm": {
     "name": "#%%\n"
    }
   }
  },
  {
   "cell_type": "markdown",
   "source": [
    "Typically the dynamics of the model are passed to brian2 by a literal. The dynamics of the membrane potential are however solely event-based, e.g. spike-triggered or given by external drive. Thus, the specification of the membrane dynamics becomes trivial and we only need to introduce the variable h and specify that it doesn't have a physical unit."
   ],
   "metadata": {
    "collapsed": false,
    "pycharm": {
     "name": "#%% md\n"
    }
   }
  },
  {
   "cell_type": "code",
   "execution_count": null,
   "outputs": [],
   "source": [
    "eqs = \"h:1\""
   ],
   "metadata": {
    "collapsed": false,
    "pycharm": {
     "name": "#%%\n"
    }
   }
  },
  {
   "cell_type": "markdown",
   "source": [
    "The model of the membrane potential gets implemented by the Class NeuronGroup. We can specify the threshold $\\theta = 1$ and a reset action that decreases $h_i$ by the amount $\\theta$, when the threshold is reached."
   ],
   "metadata": {
    "collapsed": false,
    "pycharm": {
     "name": "#%% md\n"
    }
   }
  },
  {
   "cell_type": "code",
   "execution_count": null,
   "outputs": [],
   "source": [
    "G = NeuronGroup(N, eqs, threshold = 'h>=theta', reset = 'h -= theta', method = 'euler', dt = dt)\n",
    "\n",
    "#initialise mebrane potentials by sampling uniformly from [0,1]\n",
    "G.h = np.random.sample(size = N) "
   ],
   "metadata": {
    "collapsed": false,
    "pycharm": {
     "name": "#%%\n"
    }
   }
  },
  {
   "cell_type": "markdown",
   "source": [
    "Next, we implement the external input that is governed by the process $\\xi_{\\tau}(t)$, which selects every $\\tau$ timesteps uniformly one Neuron in the network and increases it's membrane potential by the amount $I^{ext}$. We can implement this using the class NetworkOperation."
   ],
   "metadata": {
    "collapsed": false,
    "pycharm": {
     "name": "#%% md\n"
    }
   }
  },
  {
   "cell_type": "code",
   "execution_count": null,
   "outputs": [],
   "source": [
    "#gets called by the brian2 NetworkOperation class, implements the external drive\n",
    "def external_input():\n",
    "    idx = np.random.randint(N)\n",
    "    G.h[idx]+=I\n",
    "\n",
    "#this calls the external input every tau steps\n",
    "net_op = NetworkOperation(external_input, dt= tau)"
   ],
   "metadata": {
    "collapsed": false,
    "pycharm": {
     "name": "#%%\n"
    }
   }
  },
  {
   "cell_type": "markdown",
   "source": [
    "Now we will implement the dynamics of the synaptic stength. First we specify the timescale $\\tau_j = \\tau \\nu N$, obeying $\\nu \\ll N$."
   ],
   "metadata": {
    "collapsed": false,
    "pycharm": {
     "name": "#%% md\n"
    }
   }
  },
  {
   "cell_type": "code",
   "execution_count": null,
   "outputs": [],
   "source": [
    "#calculate the time-scale of the dynamics of the synaptic strength\n",
    "tau_j = tau*nu*N\n",
    "J_max = alpha/u"
   ],
   "metadata": {
    "collapsed": false,
    "pycharm": {
     "name": "#%%\n"
    }
   }
  },
  {
   "cell_type": "markdown",
   "source": [
    "The dynamics of the synpatic strength as given in Equation (1) are separated by a minus sign. The first part only depends on time, driving $J_{ij}$ back to it's maximum $\\frac{\\alpha}{u}$. And the spike-triggered part, reducing $J_{ij}$ by the fraction $u$ after a presynaptic spike. We specify the first part in the variable 'eqs', that is $\\dot J_{ij} = \\frac{1}{\\tau_j} (\\frac{\\alpha}{u}-J_{ij})$ and pass it as the model specification to the Synapses class of brian2.$\\\\$\n",
    "The spike-triggered part can be implemented as part of the 'on_pre' statement of the Synapses class, which gets executed upon a presynaptic spike. We have to specify two pathways. The first, which we call 'pre_transmission', increases the postsynaptic membrane potential by the amount $\\frac{u}{N}J_{ij}$. The second pathway called 'pre_selforg' decreases $J_{ij}$ by the fraction u. $\\\\\\\\$\n",
    "The decrement of the synaptic strength at spike time needs to be adjusted with a correction term, as the governing ODE as specified in the variable 'eqs' gets updated first within brian2. Thus, we cannot simply write J-=u*J. As in this case J has already been updated internally. \n",
    "The correction term can be easily derived:$\\\\$\n",
    "We denote $J^+$ as the synaptic strength after the update of the ODE as specified in the variable 'eqs', that is:\n",
    "\\begin{align}\n",
    "    J^+ = J_{ij}(t_{sp}^j)+1/\\tau_j(\\frac{\\alpha}{u} - J_{ij}(t_{sp}^j))\n",
    "\\end{align}\n",
    "To obtain the synaptic strength at spike time in the presynaptic neuron, we simply solve the above equation for $J_{ij}(t_{sp}^j)$ and obtain\n",
    "\\begin{align}\n",
    "J_{ij}(t_{sp}^j) = \\frac{J^+ - \\frac{\\alpha}{\\tau_j u}}{1-\\frac{1}{\\tau_j}}.\n",
    "\\end{align}We then apply the decrement by fraction $u$ to the above term.\n"
   ],
   "metadata": {
    "collapsed": false,
    "pycharm": {
     "name": "#%% md\n"
    }
   }
  },
  {
   "cell_type": "code",
   "execution_count": null,
   "outputs": [],
   "source": [
    "N_neurons = N #we have to rename N because the class Synapses uses this variable internally, too\n",
    "\n",
    "#time-dependent part\n",
    "eqs =  \"dJ/dt = 1/tau_j*(alpha/u-J) : 1\"\n",
    "\n",
    "S = Synapses(G,G, eqs, on_pre = {'pre_transmission': 'h_post += u/N_neurons*J',\n",
    "                                 'pre_selforg': 'J = clip(J-u*((J-alpha/(tau_j/ms*u))/(1-1/(tau_j/ms))), 0, J_max)'}, dt = dt, method = 'euler')\n",
    "\n",
    "#connect the Neurons to construct a fully connected network without recursive links                                                                          \n",
    "S.connect(condition = 'i!=j')\n",
    "\n",
    "#initialise synaptic strength with the value 1\n",
    "S.J = 1\n",
    "\n",
    "#specify the synaptic timescale that affects the membrane potential dynamics\n",
    "S.pre_transmission.delay = tau_d\n",
    "\n",
    "#specify the monitors which are later used for plotting\n",
    "spikes = SpikeMonitor(G)\n",
    "neuron_state = StateMonitor(G, 'h', dt = dt, record = record_states)\n",
    "synapse_state = StateMonitor(S, 'J', dt=dt, record = record_states)\n",
    "\n",
    "#immediately plot sum results\n",
    "if plot_results:\n",
    "    print((spikes.t/ms).shape, spikes.i.shape)\n",
    "    plt.plot((spikes.t/ms), spikes.i, '.k')\n",
    "    plt.xlabel('Time(ms)')\n",
    "    plt.ylabel('Neuron')\n",
    "\n",
    "    plt.show()\n",
    "\n",
    "    if record_states:\n",
    "        plt.plot(neuron_state.t/ms, neuron_state.h[1], '-b')\n",
    "        plt.xlabel('Time(ms)')\n",
    "        plt.ylabel('h')\n",
    "        plt.show()\n"
   ],
   "metadata": {
    "collapsed": false,
    "pycharm": {
     "name": "#%%\n"
    }
   }
  },
  {
   "cell_type": "markdown",
   "source": [
    "Finally we can run the model"
   ],
   "metadata": {
    "collapsed": false,
    "pycharm": {
     "name": "#%% md\n"
    }
   }
  },
  {
   "cell_type": "code",
   "execution_count": null,
   "outputs": [],
   "source": [
    "print('Running simulation...')\n",
    "run(duration)\n",
    "print('Done')\n"
   ],
   "metadata": {
    "collapsed": false,
    "pycharm": {
     "name": "#%%\n"
    }
   }
  },
  {
   "cell_type": "code",
   "execution_count": null,
   "outputs": [],
   "source": [
    "#immediately plot sum results\n",
    "if plot_results:\n",
    "    print((spikes.t/ms).shape, spikes.i.shape)\n",
    "    plt.plot((spikes.t/ms), spikes.i, '.k')\n",
    "    plt.xlabel('Time(ms)')\n",
    "    plt.ylabel('Neuron')\n",
    "\n",
    "    plt.show()\n",
    "\n",
    "    if record_states:\n",
    "        plt.plot(neuron_state.t/ms, neuron_state.h[1], '-b')\n",
    "        plt.xlabel('Time(ms)')\n",
    "        plt.ylabel('h')\n",
    "        plt.show()"
   ],
   "metadata": {
    "collapsed": false,
    "pycharm": {
     "name": "#%%\n"
    }
   }
  },
  {
   "cell_type": "code",
   "execution_count": 2,
   "id": "076135ce",
   "metadata": {},
   "outputs": [],
   "source": [
    "from brian2 import *\n",
    "import numpy as np\n",
    "import pandas as pd\n",
    "import os"
   ]
  },
  {
   "attachments": {},
   "cell_type": "markdown",
   "id": "cab4a26a",
   "metadata": {},
   "source": [
    "First, we define all necessary variables. We use the same quantities as in Figure 1 of Levina et. al (2007)."
   ]
  },
  {
   "cell_type": "code",
   "execution_count": 7,
   "id": "5929fed0",
   "metadata": {
    "pycharm": {
     "name": "#%%\n"
    }
   },
   "outputs": [],
   "source": [
    "N=300\n",
    "alpha = 1.4\n",
    "u = 0.2\n",
    "nu = 10\n",
    "I = 0.025\n",
    "theta = 1\n",
    "topology = 'fc'\n",
    "p = None"
   ]
  },
  {
   "cell_type": "markdown",
   "id": "6a768624",
   "metadata": {},
   "source": [
    "We need to specify temporal variables in physical units, but for other variables of the model, such as the membrane potential h, we omitted physical units. First, we specify the timescales by obeying $\\tau_d \\ll \\tau$\n"
   ]
  },
  {
   "cell_type": "code",
   "execution_count": 8,
   "id": "ca0b3645",
   "metadata": {},
   "outputs": [],
   "source": [
    "tau = 10*ms\n",
    "tau_d = 1*ms"
   ]
  },
  {
   "cell_type": "markdown",
   "id": "5fb11754",
   "metadata": {},
   "source": [
    "Next, we specify the duration of the simulation in milliseconds and set the temporal resolution of the Numerical solver used by brian2 to the same amount of the timescale $\\tau$. This makes the system discrete, e.g. with $10.000 ms$ and a timescale of $\\tau=10ms$, the system is simulated for 1000 steps."
   ]
  },
  {
   "cell_type": "code",
   "execution_count": 9,
   "id": "c325eabf",
   "metadata": {},
   "outputs": [],
   "source": [
    "duration = 10000*ms \n",
    "#sets the timestep to tau which makes the model discrete\n",
    "dt = tau"
   ]
  },
  {
   "cell_type": "markdown",
   "id": "43287718",
   "metadata": {},
   "source": [
    "Typically the dynamics of the model are passed to brian2 by a literal. The dynamics of the membrane potential are however solely event-based, e.g. spike-triggered or given by external drive. Thus, the specification of the membrane dynamics becomes trivial and we only need to introduce the variable h and specify that it doesn't have a physical unit."
   ]
  },
  {
   "cell_type": "code",
   "execution_count": 10,
   "id": "754bfa5c",
   "metadata": {},
   "outputs": [],
   "source": [
    "eqs = \"h:1\""
   ]
  },
  {
   "cell_type": "markdown",
   "id": "e773fffb",
   "metadata": {},
   "source": [
    "The model of the membrane potential gets implemented by the Class NeuronGroup. We can specify the threshold $\\theta = 1$ and a reset action that decreases $h_i$ by the amount $\\theta$, when the threshold is reached."
   ]
  },
  {
   "cell_type": "code",
   "execution_count": 11,
   "id": "57d4bc01",
   "metadata": {},
   "outputs": [],
   "source": [
    "G = NeuronGroup(N, eqs, threshold = 'h>=theta', reset = 'h -= theta', method = 'euler', dt = dt)\n",
    "\n",
    "#initialise mebrane potentials by sampling uniformly from [0,1]\n",
    "G.h = np.random.sample(size = N) "
   ]
  },
  {
   "cell_type": "markdown",
   "id": "740e9889",
   "metadata": {},
   "source": [
    "Next, we implement the external input that is governed by the process $\\xi_{\\tau}(t)$, which selects every $\\tau$ timesteps uniformly one Neuron in the network and increases it's membrane potential by the amount $I^{ext}$. We can implement this using the class NetworkOperation."
   ]
  },
  {
   "cell_type": "code",
   "execution_count": 13,
   "id": "b7ccc3bc",
   "metadata": {},
   "outputs": [],
   "source": [
    "#gets called by the brian2 NetworkOperation class, implements the external drive\n",
    "def external_input():\n",
    "    idx = np.random.randint(N)\n",
    "    G.h[idx]+=I\n",
    "\n",
    "#this calls the external input every tau steps\n",
    "net_op = NetworkOperation(external_input, dt= tau)"
   ]
  },
  {
   "cell_type": "markdown",
   "id": "0a3fd74c",
   "metadata": {},
   "source": [
    "Now we will implement the dynamics of the synaptic stength. First we specify the timescale $\\tau_j = \\tau \\nu N$, obeying $\\nu \\ll N$."
   ]
  },
  {
   "cell_type": "code",
   "execution_count": 14,
   "id": "90f99b39",
   "metadata": {},
   "outputs": [],
   "source": [
    "#calculate the time-scale of the dynamics of the synaptic strength\n",
    "tau_j = tau*nu*N\n",
    "J_max = alpha/u"
   ]
  },
  {
   "cell_type": "markdown",
   "id": "9d078e83",
   "metadata": {},
   "source": [
    "The dynamics of the synpatic strength as given in Equation (1) are separated by a minus sign. The first part only depends on time, driving $J_{ij}$ back to it's maximum $\\frac{\\alpha}{u}$. And the spike-triggered part, reducing $J_{ij}$ by the fraction $u$ after a presynaptic spike. We specify the first part in the variable 'eqs', that is $\\dot J_{ij} = \\frac{1}{\\tau_j} (\\frac{\\alpha}{u}-J_{ij})$ and pass it as the model specification to the Synapses class of brian2.$\\\\$\n",
    "The spike-triggered part can be implemented as part of the 'on_pre' statement of the Synapses class, which gets executed upon a presynaptic spike. We have to specify two pathways. The first, which we call 'pre_transmission', increases the postsynaptic membrane potential by the amount $\\frac{u}{N}J_{ij}$. The second pathway called 'pre_selforg' decreases $J_{ij}$ by the fraction u. $\\\\\\\\$\n",
    "The decrement of the synaptic strength at spike time needs to be adjusted with a correction term, as the governing ODE as specified in the variable 'eqs' gets updated first within brian2. Thus, we cannot simply write J-=u*J. As in this case J has already been updated internally. \n",
    "The correction term can be easily derived:$\\\\$\n",
    "We denote $J^+$ as the synaptic strength after the update of the ODE as specified in the variable 'eqs', that is:\n",
    "\\begin{align}\n",
    "    J^+ = J_{ij}(t_{sp}^j)+1/\\tau_j(\\frac{\\alpha}{u} - J_{ij}(t_{sp}^j))\n",
    "\\end{align}\n",
    "To obtain the synaptic strength at spike time in the presynaptic neuron, we simply solve the above equation for $J_{ij}(t_{sp}^j)$ and obtain\n",
    "\\begin{align}\n",
    "J_{ij}(t_{sp}^j) = \\frac{J^+ - \\frac{\\alpha}{\\tau_j u}}{1-\\frac{1}{\\tau_j}}.\n",
    "\\end{align}We then apply the decrement by fraction $u$ to the above term.\n"
   ]
  },
  {
   "cell_type": "code",
   "execution_count": null,
   "id": "955e538c",
   "metadata": {},
   "outputs": [],
   "source": [
    "N_neurons = N #we have to rename N because the class Synapses uses this variable internally, too\n",
    "\n",
    "#time-dependent part\n",
    "eqs =  \"dJ/dt = 1/tau_j*(alpha/u-J) : 1\"\n",
    "\n",
    "S = Synapses(G,G, eqs, on_pre = {'pre_transmission': 'h_post += u/N_neurons*J',\n",
    "                                 'pre_selforg': 'J = clip(J-u*((J-alpha/(tau_j/ms*u))/(1-1/(tau_j/ms))), 0, J_max)'}, dt = dt, method = 'euler')\n",
    "\n",
    "#connect the Neurons to construct a fully connected network without recursive links                                                                          \n",
    "S.connect(condition = 'i!=j')\n",
    "\n",
    "#initialise synaptic strength with the value 1\n",
    "S.J = 1\n",
    "\n",
    "#specify the synaptic timescale that affects the membrane potential dynamics\n",
    "S.pre_transmission.delay = tau_d\n",
    "\n",
    "#specify the monitors which are later used for plotting\n",
    "spikes = SpikeMonitor(G)\n",
    "neuron_state = StateMonitor(G, 'h', dt = dt, record = record_states)\n",
    "synapse_state = StateMonitor(S, 'J', dt=dt, record = record_states)\n",
    "\n",
    "#immediately plot sum results\n",
    "if plot_results:\n",
    "    print((spikes.t/ms).shape, spikes.i.shape)\n",
    "    plt.plot((spikes.t/ms), spikes.i, '.k')\n",
    "    plt.xlabel('Time(ms)')\n",
    "    plt.ylabel('Neuron')\n",
    "\n",
    "    plt.show()\n",
    "\n",
    "    if record_states:\n",
    "        plt.plot(neuron_state.t/ms, neuron_state.h[1], '-b')\n",
    "        plt.xlabel('Time(ms)')\n",
    "        plt.ylabel('h')\n",
    "        plt.show()\n"
   ]
  },
  {
   "cell_type": "markdown",
   "id": "1af39911",
   "metadata": {},
   "source": [
    "Finally we can run the model"
   ]
  },
  {
   "cell_type": "code",
   "execution_count": null,
   "id": "a294034d",
   "metadata": {},
   "outputs": [],
   "source": [
    "print('Running simulation...')\n",
    "run(duration)\n",
    "print('Done')\n"
   ]
  },
  {
   "cell_type": "code",
   "execution_count": null,
   "id": "0fadc867",
   "metadata": {},
   "outputs": [],
   "source": [
    "#immediately plot sum results\n",
    "if plot_results:\n",
    "    print((spikes.t/ms).shape, spikes.i.shape)\n",
    "    plt.plot((spikes.t/ms), spikes.i, '.k')\n",
    "    plt.xlabel('Time(ms)')\n",
    "    plt.ylabel('Neuron')\n",
    "\n",
    "    plt.show()\n",
    "\n",
    "    if record_states:\n",
    "        plt.plot(neuron_state.t/ms, neuron_state.h[1], '-b')\n",
    "        plt.xlabel('Time(ms)')\n",
    "        plt.ylabel('h')\n",
    "        plt.show()"
   ]
  }
 ],
 "metadata": {
  "kernelspec": {
   "display_name": "Python 3",
   "language": "python",
   "name": "python3"
  },
  "language_info": {
   "codemirror_mode": {
    "name": "ipython",
    "version": 3
   },
   "file_extension": ".py",
   "mimetype": "text/x-python",
   "name": "python",
   "nbconvert_exporter": "python",
   "pygments_lexer": "ipython3",
   "version": "3.8.10"
  }
 },
 "nbformat": 4,
 "nbformat_minor": 5
}